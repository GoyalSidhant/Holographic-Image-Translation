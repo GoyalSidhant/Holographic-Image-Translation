{
 "cells": [
  {
   "cell_type": "markdown",
   "metadata": {},
   "source": [
    "Generative Adversarial Networks (GANs) are one of the most interesting ideas in computer science today. Two models are trained simultaneously by an adversarial process. A generator (\"the artist\") learns to create images that look real, while a discriminator (\"the art critic\") learns to tell real images apart from fakes.\n",
    "\n",
    "The Generator\n",
    "The generator uses tf.keras.layers.Conv2DTranspose (upsampling) layers to produce an image from a seed (random noise). Start with a Dense layer that takes this seed as input, then upsample several times until you reach the desired image size of 28x28x1. Notice the tf.keras.layers.LeakyReLU activation for each layer, except the output layer which uses tanh.\n",
    "\n",
    "\n",
    "The Discriminator\n",
    "The discriminator is a CNN-based image classifier\n",
    "\n",
    "Use the (as yet untrained) discriminator to classify the generated images as real or fake. The model will be trained to output positive values for real images, and negative values for fake images.\n",
    "\n",
    "Generator loss\n",
    "The generator's loss quantifies how well it was able to trick the discriminator. Intuitively, if the generator is performing well, the discriminator will classify the fake images as real (or 1). Here, we will compare the discriminators decisions on the generated images to an array of 1s.\n",
    "\n",
    "\n",
    "What is Semantic Segmentation?\n",
    "a. Image classification\n",
    "\n",
    "b. Classification with Localization\n",
    "\n",
    "c. Object Detection\n",
    "\n",
    "d. Semantic Segmentation\n",
    "\n",
    "e. Instance segmentation\n",
    "\n",
    "\n",
    "\n",
    "Intuitively we can make the following conclusion of the pooling operation. By down sampling, the model better understands “WHAT” is present in the image, but it loses the information of “WHERE” it is present.\n",
    "\n",
    "\n",
    "GAN uses Game Theory in Backend =====> Maxima Minima Concept \n",
    "\n",
    "\n",
    "Practical tips and tricks for training GANs --- > watch this for hyperparameter tunning \n"
   ]
  },
  {
   "cell_type": "code",
   "execution_count": null,
   "metadata": {},
   "outputs": [],
   "source": []
  }
 ],
 "metadata": {
  "kernelspec": {
   "display_name": "Python 3",
   "language": "python",
   "name": "python3"
  },
  "language_info": {
   "codemirror_mode": {
    "name": "ipython",
    "version": 3
   },
   "file_extension": ".py",
   "mimetype": "text/x-python",
   "name": "python",
   "nbconvert_exporter": "python",
   "pygments_lexer": "ipython3",
   "version": "3.7.5"
  }
 },
 "nbformat": 4,
 "nbformat_minor": 2
}
